{
 "cells": [
  {
   "cell_type": "code",
   "execution_count": 2,
   "id": "6d0ec1e1-34b5-44df-8e38-31dc4e7ec06c",
   "metadata": {},
   "outputs": [
    {
     "name": "stdout",
     "output_type": "stream",
     "text": [
      "b'<?xml version=\"1.0\" encoding=\"UTF-8\" ?>\\n<!DOCTYPE eInfoResult PUBLIC \"-//NLM//DTD einfo 20190110//EN\" \"https://eutils.ncbi.nlm.nih.gov/eutils/dtd/20190110/einfo.dtd\">\\n<eInfoResult>\\n<DbList>\\n\\n\\t<DbName>pubmed</DbName>\\n\\t<DbName>protein</DbName>\\n\\t<DbName>nuccore</DbName>\\n\\t<DbName>ipg</DbName>\\n\\t<DbName>nucleotide</DbName>\\n\\t<DbName>structure</DbName>\\n\\t<DbName>genome</DbName>\\n\\t<DbName>annotinfo</DbName>\\n\\t<DbName>assembly</DbName>\\n\\t<DbName>bioproject</DbName>\\n\\t<DbName>biosample</DbName>\\n\\t<DbName>blastdbinfo</DbName>\\n\\t<DbName>books</DbName>\\n\\t<DbName>cdd</DbName>\\n\\t<DbName>clinvar</DbName>\\n\\t<DbName>gap</DbName>\\n\\t<DbName>gapplus</DbName>\\n\\t<DbName>grasp</DbName>\\n\\t<DbName>dbvar</DbName>\\n\\t<DbName>gene</DbName>\\n\\t<DbName>gds</DbName>\\n\\t<DbName>geoprofiles</DbName>\\n\\t<DbName>homologene</DbName>\\n\\t<DbName>medgen</DbName>\\n\\t<DbName>mesh</DbName>\\n\\t<DbName>ncbisearch</DbName>\\n\\t<DbName>nlmcatalog</DbName>\\n\\t<DbName>omim</DbName>\\n\\t<DbName>orgtrack</DbName>\\n\\t<DbName>pmc</DbName>\\n\\t<DbName>popset</DbName>\\n\\t<DbName>proteinclusters</DbName>\\n\\t<DbName>pcassay</DbName>\\n\\t<DbName>protfam</DbName>\\n\\t<DbName>biosystems</DbName>\\n\\t<DbName>pccompound</DbName>\\n\\t<DbName>pcsubstance</DbName>\\n\\t<DbName>seqannot</DbName>\\n\\t<DbName>snp</DbName>\\n\\t<DbName>sra</DbName>\\n\\t<DbName>taxonomy</DbName>\\n\\t<DbName>biocollections</DbName>\\n\\t<DbName>gtr</DbName>\\n</DbList>\\n\\n</eInfoResult>\\n'\n"
     ]
    }
   ],
   "source": [
    "#Code 1\n",
    "from Bio import Entrez\n",
    "Entrez.email = \"localuser@localhost.localdomain\" #Mandatory! Can be replaced with your personal email.\n",
    "\n",
    "#creating handle\n",
    "handle = Entrez.einfo() #invoking Bio.Entrez.einfo()\n",
    "print(handle.read())\n",
    "handle.close() #always close your handle after you finish"
   ]
  },
  {
   "cell_type": "code",
   "execution_count": 3,
   "id": "334cee31-7ae4-4994-8250-ee9fa0b5c240",
   "metadata": {},
   "outputs": [
    {
     "name": "stdout",
     "output_type": "stream",
     "text": [
      "{'Count': '176441', 'RetMax': '20', 'RetStart': '0', 'IdList': ['2206599357', '2206599355', '2206599353', '2206599351', '2206599350', '2206599348', '2206599346', '2206599344', '2206599342', '2206599340', '2206599338', '2206599336', '2206599334', '2206599332', '2206599330', '2206599328', '2206599326', '2206599324', '2206599322', '2206360301'], 'TranslationSet': [{'From': 'Mangifera indica', 'To': '\"Mangifera indica\"[Organism] OR Mangifera indica[All Fields]'}], 'TranslationStack': [{'Term': '\"Mangifera indica\"[Organism]', 'Field': 'Organism', 'Count': '149449', 'Explode': 'Y'}, {'Term': 'Mangifera indica[All Fields]', 'Field': 'All Fields', 'Count': '176441', 'Explode': 'N'}, 'OR', 'GROUP'], 'QueryTranslation': '\"Mangifera indica\"[Organism] OR Mangifera indica[All Fields]'}\n"
     ]
    }
   ],
   "source": [
    "from Bio import Entrez\n",
    "Entrez.email = \"localuser@localhost.localdomain\" #Mandatory! Can be replaced with your personal email.\n",
    "\n",
    "#creating handle\n",
    "handle = Entrez.esearch(db=\"nuccore\", term=\"Mangifera indica\")\n",
    "record = Entrez.read(handle)\n",
    "print(record)\n",
    "handle.close() #always close your handle after you finish"
   ]
  },
  {
   "cell_type": "code",
   "execution_count": 5,
   "id": "a3c577fb-56e3-4aad-865d-1b51ef80877c",
   "metadata": {},
   "outputs": [
    {
     "name": "stdout",
     "output_type": "stream",
     "text": [
      "{'Count': '8', 'RetMax': '8', 'RetStart': '0', 'IdList': ['2130418125', '2125761180', '2120209605', '1832297462', '1178767202', '1215836734', '1200753643', '676233456'], 'TranslationSet': [{'From': 'Mangifera indica', 'To': '\"Mangifera indica\"[Organism] OR Mangifera indica[All Fields]'}], 'TranslationStack': [{'Term': '\"Mangifera indica\"[Organism]', 'Field': 'Organism', 'Count': '149449', 'Explode': 'Y'}, {'Term': 'Mangifera indica[All Fields]', 'Field': 'All Fields', 'Count': '176441', 'Explode': 'N'}, 'OR', 'GROUP', {'Term': 'ndhF[All Fields]', 'Field': 'All Fields', 'Count': '95950', 'Explode': 'N'}, 'AND', 'GROUP'], 'QueryTranslation': '(\"Mangifera indica\"[Organism] OR Mangifera indica[All Fields]) AND ndhF[All Fields]'}\n"
     ]
    }
   ],
   "source": [
    "#Code 3\n",
    "from Bio import Entrez\n",
    "Entrez.email = \"localuser@localhost.localdomain\" #Mandatory! Can be replaced with your personal email.\n",
    "\n",
    "#creating handle\n",
    "handle = Entrez.esearch(db=\"nuccore\", term=\"Mangifera indica ndhF\")\n",
    "record = Entrez.read(handle)\n",
    "print(record)\n",
    "handle.close() #always close your handle after you finish"
   ]
  },
  {
   "cell_type": "code",
   "execution_count": 6,
   "id": "f8948369-f637-4c70-8391-c680d7354067",
   "metadata": {},
   "outputs": [
    {
     "name": "stdout",
     "output_type": "stream",
     "text": [
      "LOCUS       KF664349                1902 bp    DNA     linear   PLN 08-SEP-2014\n",
      "DEFINITION  Mangifera indica voucher Yi13519(KUN) NADH dehydrogenase subunit F\n",
      "            (ndhF) gene, partial cds; chloroplast.\n",
      "ACCESSION   KF664349\n",
      "VERSION     KF664349.1\n",
      "KEYWORDS    .\n",
      "SOURCE      chloroplast Mangifera indica (mango)\n",
      "  ORGANISM  Mangifera indica\n",
      "            Eukaryota; Viridiplantae; Streptophyta; Embryophyta; Tracheophyta;\n",
      "            Spermatophyta; Magnoliopsida; eudicotyledons; Gunneridae;\n",
      "            Pentapetalae; rosids; malvids; Sapindales; Anacardiaceae;\n",
      "            Mangifera.\n",
      "REFERENCE   1  (bases 1 to 1902)\n",
      "  AUTHORS   Xie,L., Yang,Z.Y., Wen,J., Li,D.Z. and Yi,T.S.\n",
      "  TITLE     Biogeographic history of Pistacia (Anacardiaceae), emphasizing the\n",
      "            evolution of the Madrean-Tethyan and the eastern Asian-Tethyan\n",
      "            disjunctions\n",
      "  JOURNAL   Mol. Phylogenet. Evol. 77, 136-146 (2014)\n",
      "   PUBMED   24747126\n",
      "REFERENCE   2  (bases 1 to 1902)\n",
      "  AUTHORS   Yang,Z., Xie,L., Wen,J. and Yi,T.\n",
      "  TITLE     Direct Submission\n",
      "  JOURNAL   Submitted (12-SEP-2013) Kunming Institute of Botany, Chinese\n",
      "            Academy of Sciences, No. 132 Lanhei Road, Kunming, Yunnan 650201,\n",
      "            China\n",
      "FEATURES             Location/Qualifiers\n",
      "     source          1..1902\n",
      "                     /organism=\"Mangifera indica\"\n",
      "                     /organelle=\"plastid:chloroplast\"\n",
      "                     /mol_type=\"genomic DNA\"\n",
      "                     /specimen_voucher=\"Yi13519(KUN)\"\n",
      "                     /db_xref=\"taxon:29780\"\n",
      "     gene            <1..>1902\n",
      "                     /gene=\"ndhF\"\n",
      "     CDS             <1..>1902\n",
      "                     /gene=\"ndhF\"\n",
      "                     /codon_start=1\n",
      "                     /transl_table=11\n",
      "                     /product=\"NADH dehydrogenase subunit F\"\n",
      "                     /protein_id=\"AIM18561.1\"\n",
      "                     /translation=\"MLIGVGLLLFPTATKNLHRMWAFPSILLLSIVMIFSVDLAIHQI\n",
      "                     HRSCIYQYVWSWTINNDFSLEFGHFIDPLTSIMSVLITTVGILVLIYSDNYMSHDQGY\n",
      "                     LRFFAYMTFFNTSMLGLVTSSNLIQIYIFWELVGMCSYLLIGFWSTRPIAASACQKAF\n",
      "                     VTNRVGDFGLLLGILGLYWITGSFEFRDLFEILNNLIYNNEVNLLFVTLCAFLLFAGA\n",
      "                     VAKSAQFPLHVWLPDAMEGPTPISALIHAATMVAAGIFLVARLLPLFIVIPYIMNLIS\n",
      "                     LIGIITVLLGATLALAQKDIKRSLAYSXXXXXXXXXXXXXXXXXXXXXXXXXXXXXXX\n",
      "                     XXXXXXXXXXXXXXXXXXXXXXXXXXXTILMGSLRKHVPITKTAFLLGTLSLCGIPPL\n",
      "                     ACFWSKDEILNDSWLYSPIFAIIACFIAGLTAFYMFRIYLLTFEGHFNICFQNYSGKK\n",
      "                     NNSIYSISIWGKEEPKSIKTEFSLFALLTINNELTMNNERPSFFSKNTFRIDSKVTKM\n",
      "                     PFITIFPFGTTKTFFYPHESDSTMLFSMLVLVLFPLFVGTIGIPFHQEGVDLDLLSRL\n",
      "                     LTPSINLLHQNSNHFFDWYEFLTNSTFSVSIAYFGIVLASFLYKPFYSSFQNWNILNL\n",
      "                     VAKRGANEIL\"\n",
      "     gap             909..1082\n",
      "                     /estimated_length=174\n",
      "ORIGIN      \n",
      "        1 atgttaatag gagtgggact tctacttttt ccgacagcaa caaaaaatct tcaccgtatg\n",
      "       61 tgggcttttc ctagtatttt attgttaagt atagttatga ttttttcggt cgatctagct\n",
      "      121 attcatcaaa tacatcgaag ttgtatctat caatacgtat ggtcttggac gatcaataat\n",
      "      181 gatttttctt tagagtttgg acattttatt gatccactta cttctattat gtcagtatta\n",
      "      241 atcactacag ttggaattct ggttcttatt tatagtgata attatatgtc tcatgatcaa\n",
      "      301 ggatatttga gattttttgc ttatatgact tttttcaata cttcaatgtt aggattagtt\n",
      "      361 acaagttcga atttaataca aatttatatt ttttgggaat tagttggaat gtgttcttat\n",
      "      421 ctattaatag ggttttggtc cacccgacct attgcggcca gtgcttgtca aaaagcgttt\n",
      "      481 gtaactaatc gtgtagggga ttttggttta ttattaggaa tcttaggtct ttattggata\n",
      "      541 acgggtagtt tcgaatttcg ggatttgttc gaaatattga ataacttgat ttataataat\n",
      "      601 gaggttaacc ttttatttgt tactttgtgt gcctttctat tatttgccgg tgcggttgct\n",
      "      661 aagtccgcac aatttcccct tcatgtatgg ttacccgatg cgatggaagg tcctactcct\n",
      "      721 atttcggctc ttatccatgc tgctactatg gtagcggccg gaatttttct tgtagctcgt\n",
      "      781 cttcttccgc ttttcatagt cataccatac ataatgaatc taatatcttt gataggtata\n",
      "      841 ataacagtat tattgggagc tactttagct cttgctcaaa aagatattaa gagaagttta\n",
      "      901 gcttattcnn nnnnnnnnnn nnnnnnnnnn nnnnnnnnnn nnnnnnnnnn nnnnnnnnnn\n",
      "      961 nnnnnnnnnn nnnnnnnnnn nnnnnnnnnn nnnnnnnnnn nnnnnnnnnn nnnnnnnnnn\n",
      "     1021 nnnnnnnnnn nnnnnnnnnn nnnnnnnnnn nnnnnnnnnn nnnnnnnnnn nnnnnnnnnn\n",
      "     1081 nntacaattc ttatgggcag tttaagaaag catgtgccaa ttacaaaaac tgccttttta\n",
      "     1141 ttaggtacac tttctctttg tggtattccg ccccttgctt gtttttggtc caaagatgaa\n",
      "     1201 attcttaatg atagttggtt gtattctccg atttttgcaa taatagcttg ttttatagcc\n",
      "     1261 ggattaaccg cattttatat gtttcggatt tatttactta cttttgaagg acatttcaac\n",
      "     1321 atttgttttc aaaattacag tggcaaaaaa aataactcca tctattcaat atctatatgg\n",
      "     1381 ggtaaagaag agccaaaatc tattaaaaca gaattttctt tattcgcttt attaacaata\n",
      "     1441 aacaatgaat taacaatgaa taatgaaagg ccttcgtttt tttcgaagaa tacatttcga\n",
      "     1501 attgatagta aggtaacaaa gatgcctttt attactattt ttccttttgg cactaccaaa\n",
      "     1561 actttttttt atccccatga atcagatagt actatgctat tctctatgct tgtattagtt\n",
      "     1621 ttatttcctt tgtttgttgg aactatagga attcctttcc atcaagaagg agtcgatttg\n",
      "     1681 gatctattat caagattgtt aactccgtct ataaatcttt tacatcaaaa ttcaaatcat\n",
      "     1741 tttttcgatt ggtatgaatt tttaacaaat tcaacctttt cggtcagtat agcgtatttc\n",
      "     1801 ggaatagttc tagcatcctt tttatataag cctttttatt catcttttca aaattggaac\n",
      "     1861 atactaaatt tagttgctaa aagaggcgct aatgaaattc tt\n",
      "//\n",
      "\n",
      "\n"
     ]
    }
   ],
   "source": [
    "#Code 4\n",
    "from Bio import Entrez\n",
    "Entrez.email = \"localuser@localhost.localdomain\" #Mandatory! Can be replaced with your personal email.\n",
    "\n",
    "#creating EFetch handle\n",
    "efetch_handle = Entrez.efetch(db=\"nuccore\", id=\"676233456\", rettype=\"gb\", retmode=\"text\")\n",
    "gbrecord = efetch_handle.read()\n",
    "print(gbrecord)\n",
    "efetch_handle.close() #always close your handle after you finish"
   ]
  },
  {
   "cell_type": "code",
   "execution_count": 7,
   "id": "85b7d336-d07f-4eb5-94bc-9284b51ef1c4",
   "metadata": {},
   "outputs": [
    {
     "name": "stdout",
     "output_type": "stream",
     "text": [
      ">KF664349.1 Mangifera indica voucher Yi13519(KUN) NADH dehydrogenase subunit F (ndhF) gene, partial cds; chloroplast\n",
      "ATGTTAATAGGAGTGGGACTTCTACTTTTTCCGACAGCAACAAAAAATCTTCACCGTATGTGGGCTTTTC\n",
      "CTAGTATTTTATTGTTAAGTATAGTTATGATTTTTTCGGTCGATCTAGCTATTCATCAAATACATCGAAG\n",
      "TTGTATCTATCAATACGTATGGTCTTGGACGATCAATAATGATTTTTCTTTAGAGTTTGGACATTTTATT\n",
      "GATCCACTTACTTCTATTATGTCAGTATTAATCACTACAGTTGGAATTCTGGTTCTTATTTATAGTGATA\n",
      "ATTATATGTCTCATGATCAAGGATATTTGAGATTTTTTGCTTATATGACTTTTTTCAATACTTCAATGTT\n",
      "AGGATTAGTTACAAGTTCGAATTTAATACAAATTTATATTTTTTGGGAATTAGTTGGAATGTGTTCTTAT\n",
      "CTATTAATAGGGTTTTGGTCCACCCGACCTATTGCGGCCAGTGCTTGTCAAAAAGCGTTTGTAACTAATC\n",
      "GTGTAGGGGATTTTGGTTTATTATTAGGAATCTTAGGTCTTTATTGGATAACGGGTAGTTTCGAATTTCG\n",
      "GGATTTGTTCGAAATATTGAATAACTTGATTTATAATAATGAGGTTAACCTTTTATTTGTTACTTTGTGT\n",
      "GCCTTTCTATTATTTGCCGGTGCGGTTGCTAAGTCCGCACAATTTCCCCTTCATGTATGGTTACCCGATG\n",
      "CGATGGAAGGTCCTACTCCTATTTCGGCTCTTATCCATGCTGCTACTATGGTAGCGGCCGGAATTTTTCT\n",
      "TGTAGCTCGTCTTCTTCCGCTTTTCATAGTCATACCATACATAATGAATCTAATATCTTTGATAGGTATA\n",
      "ATAACAGTATTATTGGGAGCTACTTTAGCTCTTGCTCAAAAAGATATTAAGAGAAGTTTAGCTTATTCNN\n",
      "NNNNNNNNNNNNNNNNNNNNNNNNNNNNNNNNNNNNNNNNNNNNNNNNNNNNNNNNNNNNNNNNNNNNNN\n",
      "NNNNNNNNNNNNNNNNNNNNNNNNNNNNNNNNNNNNNNNNNNNNNNNNNNNNNNNNNNNNNNNNNNNNNN\n",
      "NNNNNNNNNNNNNNNNNNNNNNNNNNNNNNNNTACAATTCTTATGGGCAGTTTAAGAAAGCATGTGCCAA\n",
      "TTACAAAAACTGCCTTTTTATTAGGTACACTTTCTCTTTGTGGTATTCCGCCCCTTGCTTGTTTTTGGTC\n",
      "CAAAGATGAAATTCTTAATGATAGTTGGTTGTATTCTCCGATTTTTGCAATAATAGCTTGTTTTATAGCC\n",
      "GGATTAACCGCATTTTATATGTTTCGGATTTATTTACTTACTTTTGAAGGACATTTCAACATTTGTTTTC\n",
      "AAAATTACAGTGGCAAAAAAAATAACTCCATCTATTCAATATCTATATGGGGTAAAGAAGAGCCAAAATC\n",
      "TATTAAAACAGAATTTTCTTTATTCGCTTTATTAACAATAAACAATGAATTAACAATGAATAATGAAAGG\n",
      "CCTTCGTTTTTTTCGAAGAATACATTTCGAATTGATAGTAAGGTAACAAAGATGCCTTTTATTACTATTT\n",
      "TTCCTTTTGGCACTACCAAAACTTTTTTTTATCCCCATGAATCAGATAGTACTATGCTATTCTCTATGCT\n",
      "TGTATTAGTTTTATTTCCTTTGTTTGTTGGAACTATAGGAATTCCTTTCCATCAAGAAGGAGTCGATTTG\n",
      "GATCTATTATCAAGATTGTTAACTCCGTCTATAAATCTTTTACATCAAAATTCAAATCATTTTTTCGATT\n",
      "GGTATGAATTTTTAACAAATTCAACCTTTTCGGTCAGTATAGCGTATTTCGGAATAGTTCTAGCATCCTT\n",
      "TTTATATAAGCCTTTTTATTCATCTTTTCAAAATTGGAACATACTAAATTTAGTTGCTAAAAGAGGCGCT\n",
      "AATGAAATTCTT\n",
      "\n",
      "\n"
     ]
    }
   ],
   "source": [
    "#Code 5\n",
    "from Bio import Entrez\n",
    "Entrez.email = \"localuser@localhost.localdomain\" #Mandatory! Can be replaced with your personal email.\n",
    "\n",
    "#creating EFetch handle\n",
    "efetch_handle = Entrez.efetch(db=\"nuccore\", id=\"676233456\", rettype=\"fasta\", retmode=\"text\")\n",
    "fasta_record = efetch_handle.read()\n",
    "print(fasta_record)\n",
    "efetch_handle.close() #always close your handle after you finish"
   ]
  },
  {
   "cell_type": "code",
   "execution_count": 8,
   "id": "4c91b2fe-33e2-40f5-b507-a5f27ff86c99",
   "metadata": {},
   "outputs": [
    {
     "name": "stdout",
     "output_type": "stream",
     "text": [
      "Mangifera indica ndhF.gbk Saved\n"
     ]
    }
   ],
   "source": [
    "#Code 6\n",
    "import os # import os module for OS utilities\n",
    "from Bio import Entrez\n",
    "Entrez.email = \"localuser@localhost.localdomain\" #Mandatory! Can be replaced with your personal email.\n",
    "\n",
    "#creating EFetch handle\n",
    "filename = \"Mangifera indica ndhF.gbk\" #up to you, but Genbank files always use *.gb or *.gbk \n",
    "\n",
    "#creating EFetch handle\n",
    "if not os.path.isfile(filename):\n",
    "    # Downloading file...\n",
    "    efetch_handle = Entrez.efetch(db=\"nuccore\", id=\"676233456\", rettype=\"gb\", retmode=\"text\")\n",
    "    output_file_handle = open(filename, \"w\")\n",
    "    output_file_handle.write(efetch_handle.read())\n",
    "    output_file_handle.close()\n",
    "    efetch_handle.close()\n",
    "    print((str(filename)) + \" Saved\")\n",
    "else:\n",
    "    print((str(filename)) + \" is existing. File cannot be saved!\")"
   ]
  },
  {
   "cell_type": "code",
   "execution_count": 9,
   "id": "936e1402-5e36-46f1-87e1-69315505931d",
   "metadata": {},
   "outputs": [
    {
     "name": "stdout",
     "output_type": "stream",
     "text": [
      "Mangifera indica ndhF.fasta Saved\n"
     ]
    }
   ],
   "source": [
    "#Code 7\n",
    "import os # import os module for OS utilities\n",
    "from Bio import Entrez\n",
    "Entrez.email = \"localuser@localhost.localdomain\" #Mandatory! Can be replaced with your personal email.\n",
    "\n",
    "#creating EFetch handle\n",
    "filename = \"Mangifera indica ndhF.fasta\" #up to you, but FASTA files always use *.fasta or *.fas \n",
    "\n",
    "#creating EFetch handle\n",
    "if not os.path.isfile(filename):\n",
    "    # Downloading file...\n",
    "    efetch_handle = Entrez.efetch(db=\"nuccore\", id=\"676233456\", rettype=\"fasta\", retmode=\"text\")\n",
    "    output_file_handle = open(filename, \"w\")\n",
    "    output_file_handle.write(efetch_handle.read())\n",
    "    output_file_handle.close()\n",
    "    efetch_handle.close()\n",
    "    print((str(filename)) + \" Saved\")\n",
    "else:\n",
    "    print((str(filename)) + \" is existing. File cannot be saved!\")"
   ]
  },
  {
   "cell_type": "code",
   "execution_count": 11,
   "id": "88ac3a2e-79d5-4b7f-9c9d-0581287734b7",
   "metadata": {},
   "outputs": [
    {
     "name": "stdout",
     "output_type": "stream",
     "text": [
      "Mangifera indica complete ndhF.gbk Saved\n"
     ]
    }
   ],
   "source": [
    "#Code 8\n",
    "import os # import os module for OS utilities\n",
    "from Bio import Entrez, SeqIO\n",
    "Entrez.email = \"localuser@localhost.localdomain\" #Mandatory! Can be replaced with your personal email.\n",
    "\n",
    "#creating EFetch handle\n",
    "filename = \"Mangifera indica complete ndhF.gbk\" #up to you, but Genbank files always use *.gb or *.gbk \n",
    "\n",
    "#creating EFetch handle\n",
    "if not os.path.isfile(filename):\n",
    "    # Downloading file...\n",
    "    efetch_handle = Entrez.efetch(db=\"nuccore\", id=\"2130418125\", rettype=\"gb\", retmode=\"text\")\n",
    "    output_file_handle = open(filename, \"w\")\n",
    "    output_file_handle.write(efetch_handle.read())\n",
    "    output_file_handle.close()\n",
    "    efetch_handle.close()\n",
    "    print((str(filename)) + \" Saved\")\n",
    "else:\n",
    "    print((str(filename)) + \" is existing. File cannot be saved!\")"
   ]
  },
  {
   "cell_type": "code",
   "execution_count": 12,
   "id": "165c3c74-c5b8-4691-9bc6-8bf97b37453f",
   "metadata": {},
   "outputs": [
    {
     "name": "stdout",
     "output_type": "stream",
     "text": [
      ">ndhF|Mangifera indica chloroplast, complete genome\n",
      "ATGGAACATACATATCAATATTCCTGGATCATACCTTTCGTTCCACTTCCAGTTCATATGTTAATAGGAGTGGGACTTCTACTTTTTCCGACAGCAACAAAAAATCTTCACCGTATGTGGGCTTTTCCTAGTATTTTATTGTTAAGTATAGTTATGATTTTTTCGGTCGATCTAGCTATTCATCAAATACATCGAAGTTGTATCTATCAATACGTATGGTCTTGGACGATCAATAATGATTTTTCTTTAGAGTTTGGACATTTTATTGATCCACTTACTTCTATTATGTCAGTATTAATCACTACAGTTGGAATTCTGGTTCTTATTTATAGTGATAATTATATGTCTCATGATCAAGGATATTTGAGATTTTTTGCTTATATGACTTTTTTCAATACTTCAATGTTAGGATTAGTTACAAGTTCGAATTTAATACAAATTTATATTTTTTGGGAATTAGTTGGAATGTGTTCTTATCTATTAATAGGGTTTTGGTCCACCCGACCTATTGCGGCCAGTGCTTGTCAAAAAGCGTTTGTAACTAATCGTGTAGGGGATTTTGGTTTATTATTAGGAATCTTAGGTCTTTATTGGATAACGGGTAGTTTCGAATTTCGGGATTTGTTCGAAATATTGAATAACTTGATTTATAATAATGAGGTTAACCTTTTATTTGTTACTTTGTGTGCCTTTCTATTATTTGCCGGTGCGGTTGCTAAGTCCGCACAATTTCCCCTTCATGTATGGTTACCCGATGCGATGGAAGGTCCTACTCCTATTTCGGCTCTTATCCATGCTGCTACTATGGTAGCGGCCGGAATTTTTCTTGTAGCTCGTCTTCTTCCGCTTTTCATAGTCATACCATACATAATGAATCTAATATCTTTGATAGGTATAATAACAGTATTATTGGGAGCTACTTTAGCTCTTGCTCAAAAAGATATTAAGAGAAGTTTAGCTTATTCTACAATGTCTCAATTGGGTTATATGATGTTAGCTTTAGGTATGGGGTCTTATCGAGCCGCTTTATTTCATTTGATTACTCATGCTTATTCGAAAGCCTTGTTGTTTTTAGGATCCGGATCAATTATTCACTCAATGGAAGCTATTGTTGGCTATTCTCCAGATAAAAGTCAGAATATGGTTCTTATGGGCAGTTTAAGAAAGCATGTGCCAATTACAAAAACTGCCTTTTTATTAGGTACACTTTCTCTTTGTGGTATTCCGCCCCTTGCTTGTTTTTGGTCCAAAGATGAAATTCTTAATGATAGTTGGTTGTATTCTCCGATTTTTGCAATAATAGCTTGTTTTATAGCCGGATTAACCGCATTTTATATGTTTCGGATTTATTTACTTACTTTTGAAGGACATTTCAACATTTGTTTTCAAAATTACAGTGGCAAAAAAAATAACTCCATCTATTCAATATCTATATGGGGTAAAGAAGAGCCAAAATCTATTAAAACAGAATTTTCTTTATTCGCTTTATTAACAATAAACAATGAATTAACAATGAATAATGAAAGGCCTTCGTTTTTTTCGAAGAATACATTTCGAATTGATAGTAAGGTAACAAAGATGCCTTTTATTACTATTTTTCCTTTTGGCACTACCAAAACTTTTTTTTATCCCCATGAATCAGATAGTACTATGCTATTCTCTATGCTTGTATTAGTTTTATTTCCTTTGTTTGTTGGAACTATAGGAATTCCTTTCCATCAAGAAGGAGTCGATTTGGATCTATTATCAAGATTGTTAACTCCGTCTATAAATCTTTTACATCAAAATTCAAATCATTTTTTCGATTGGTATGAATTTTTAACAAATTCAACCTTTTCGGTCAGTATAGCGTATTTCGGAATAGTTCTAGCATCCTTTTTATATAAGCCTTTTTATTCATCTTTTCAAAATTGGAACATACTAAATTTAGTTGCTAAAAGAGGCGCTAATGAAATTCTTTGGGACAAAATAATCAATTTTCTATATGATTGGTCATATAATCGCGCTTATATAGATACTTTTTATACAATATCCTTAATGGAAAAGCTAAGAGAATTAGCCCAACTAACTCATTTATTCGATAGACGAGCAATTGATGGAATTCCAAATGGGGTTGGTATTGCGAGTTTTTTTGTAGGGGAAAGTATAAAATATGTAGGGGGAAGTCGCATCTCTTTTTATCTCTTAAAATTCTATTTATTTTATGTATTAATATTTTTCTTTATTTGTTACTTTTTCTTTTTCTAA\n"
     ]
    }
   ],
   "source": [
    "#Code 8 (continued)\n",
    "\n",
    "GoI = \"ndhF\" #change \"ndhF\" here with your GoI\n",
    "\n",
    "for genome in SeqIO.parse(\"Mangifera indica complete ndhF.gbk\",\"genbank\"):\n",
    "    for gene in genome.features:\n",
    "        if gene.type != \"CDS\":\n",
    "            continue\n",
    "        if \"gene\" not in gene.qualifiers:\n",
    "            continue\n",
    "        if GoI not in gene.qualifiers[\"gene\"][0]: \n",
    "            continue\n",
    "        gene_seq = gene.extract(genome.seq)\n",
    "\n",
    "GoI_fasta = \">%s|%s\\n%s\" % (GoI, genome.description, gene_seq)\n",
    "print(GoI_fasta)"
   ]
  },
  {
   "cell_type": "code",
   "execution_count": 13,
   "id": "e3595487-e45a-4385-ae15-02a61788a21a",
   "metadata": {},
   "outputs": [],
   "source": [
    "from Bio import SeqIO\n",
    "\n",
    "GoI = \"ndhF\"\n",
    "\n",
    "for genome in SeqIO.parse(\"Mangifera indica complete ndhF.gbk\",\"genbank\"):\n",
    "    for gene in genome.features:\n",
    "        if gene.type != \"CDS\":\n",
    "            continue\n",
    "        if \"gene\" not in gene.qualifiers:\n",
    "            continue\n",
    "        if GoI not in gene.qualifiers[\"gene\"][0]: \n",
    "            continue\n",
    "        gene_seq = gene.extract(genome.seq)\n",
    "\n",
    "GoI_fasta = \">%s|%s\\n%s\" % (GoI, genome.description, gene_seq)\n",
    "with open(\"GoI_fasta.fasta\",\"w\") as f:\n",
    "    f.write(GoI_fasta)"
   ]
  },
  {
   "cell_type": "code",
   "execution_count": null,
   "id": "632301e5-7bd0-45c3-9da2-38d0f8a5856d",
   "metadata": {},
   "outputs": [],
   "source": []
  }
 ],
 "metadata": {
  "kernelspec": {
   "display_name": "Python 3 (ipykernel)",
   "language": "python",
   "name": "python3"
  },
  "language_info": {
   "codemirror_mode": {
    "name": "ipython",
    "version": 3
   },
   "file_extension": ".py",
   "mimetype": "text/x-python",
   "name": "python",
   "nbconvert_exporter": "python",
   "pygments_lexer": "ipython3",
   "version": "3.9.7"
  }
 },
 "nbformat": 4,
 "nbformat_minor": 5
}
