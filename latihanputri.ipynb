{
 "cells": [
  {
   "cell_type": "code",
   "execution_count": 1,
   "id": "c98ec3f2-72be-4b09-ba3b-801d017b8286",
   "metadata": {},
   "outputs": [
    {
     "name": "stdout",
     "output_type": "stream",
     "text": [
      "b'<?xml version=\"1.0\" encoding=\"UTF-8\" ?>\\n<!DOCTYPE eInfoResult PUBLIC \"-//NLM//DTD einfo 20190110//EN\" \"https://eutils.ncbi.nlm.nih.gov/eutils/dtd/20190110/einfo.dtd\">\\n<eInfoResult>\\n<DbList>\\n\\n\\t<DbName>pubmed</DbName>\\n\\t<DbName>protein</DbName>\\n\\t<DbName>nuccore</DbName>\\n\\t<DbName>ipg</DbName>\\n\\t<DbName>nucleotide</DbName>\\n\\t<DbName>structure</DbName>\\n\\t<DbName>genome</DbName>\\n\\t<DbName>annotinfo</DbName>\\n\\t<DbName>assembly</DbName>\\n\\t<DbName>bioproject</DbName>\\n\\t<DbName>biosample</DbName>\\n\\t<DbName>blastdbinfo</DbName>\\n\\t<DbName>books</DbName>\\n\\t<DbName>cdd</DbName>\\n\\t<DbName>clinvar</DbName>\\n\\t<DbName>gap</DbName>\\n\\t<DbName>gapplus</DbName>\\n\\t<DbName>grasp</DbName>\\n\\t<DbName>dbvar</DbName>\\n\\t<DbName>gene</DbName>\\n\\t<DbName>gds</DbName>\\n\\t<DbName>geoprofiles</DbName>\\n\\t<DbName>homologene</DbName>\\n\\t<DbName>medgen</DbName>\\n\\t<DbName>mesh</DbName>\\n\\t<DbName>ncbisearch</DbName>\\n\\t<DbName>nlmcatalog</DbName>\\n\\t<DbName>omim</DbName>\\n\\t<DbName>orgtrack</DbName>\\n\\t<DbName>pmc</DbName>\\n\\t<DbName>popset</DbName>\\n\\t<DbName>proteinclusters</DbName>\\n\\t<DbName>pcassay</DbName>\\n\\t<DbName>protfam</DbName>\\n\\t<DbName>biosystems</DbName>\\n\\t<DbName>pccompound</DbName>\\n\\t<DbName>pcsubstance</DbName>\\n\\t<DbName>seqannot</DbName>\\n\\t<DbName>snp</DbName>\\n\\t<DbName>sra</DbName>\\n\\t<DbName>taxonomy</DbName>\\n\\t<DbName>biocollections</DbName>\\n\\t<DbName>gtr</DbName>\\n</DbList>\\n\\n</eInfoResult>\\n'\n"
     ]
    }
   ],
   "source": [
    "#Code 1\n",
    "from Bio import Entrez\n",
    "Entrez.email = \"localuser@localhost.localdomain\" #Mandatory! Can be replaced with your personal email.\n",
    "\n",
    "#creating handle\n",
    "handle = Entrez.einfo() #invoking Bio.Entrez.einfo()\n",
    "print(handle.read())\n",
    "handle.close() #always close your handle after you finish"
   ]
  },
  {
   "cell_type": "code",
   "execution_count": 2,
   "id": "337d3cf0-74ac-42aa-8721-eacea5375440",
   "metadata": {},
   "outputs": [
    {
     "name": "stdout",
     "output_type": "stream",
     "text": [
      "{'Count': '176420', 'RetMax': '20', 'RetStart': '0', 'IdList': ['2206413280', '2128399580', '2128399579', '2199076018', '2172057897', '2170812043', '2169070328', '2169069966', '2169069232', '2169067290', '2169066906', '2169066152', '2169064767', '2169063741', '2168904098', '2168899755', '2168876926', '2168865364', '2168852624', '2168842925'], 'TranslationSet': [{'From': 'Mangifera indica', 'To': '\"Mangifera indica\"[Organism] OR Mangifera indica[All Fields]'}], 'TranslationStack': [{'Term': '\"Mangifera indica\"[Organism]', 'Field': 'Organism', 'Count': '149449', 'Explode': 'Y'}, {'Term': 'Mangifera indica[All Fields]', 'Field': 'All Fields', 'Count': '176420', 'Explode': 'N'}, 'OR', 'GROUP'], 'QueryTranslation': '\"Mangifera indica\"[Organism] OR Mangifera indica[All Fields]'}\n"
     ]
    }
   ],
   "source": [
    "from Bio import Entrez\n",
    "Entrez.email = \"localuser@localhost.localdomain\" #Mandatory! Can be replaced with your personal email.\n",
    "\n",
    "#creating handle\n",
    "handle = Entrez.esearch(db=\"nuccore\", term=\"Mangifera indica\")\n",
    "record = Entrez.read(handle)\n",
    "print(record)\n",
    "handle.close() #always close your handle after you finish"
   ]
  },
  {
   "cell_type": "code",
   "execution_count": 21,
   "id": "ee56dffd-e851-4155-bbbf-851ab65a1dbc",
   "metadata": {},
   "outputs": [
    {
     "name": "stdout",
     "output_type": "stream",
     "text": [
      "{'Count': '44', 'RetMax': '20', 'RetStart': '0', 'IdList': ['2130418125', '2125761180', '2077483948', '2077483947', '2077481539', '2076537289', '2076534810', '2076506438', '1832297462', '1787507810', '1787507809', '1787507808', '1787507807', '1787507806', '1787507805', '1787507804', '1787507803', '1787507802', '1787507801', '1787507800'], 'TranslationSet': [{'From': 'Mangifera indica', 'To': '\"Mangifera indica\"[Organism] OR Mangifera indica[All Fields]'}], 'TranslationStack': [{'Term': '\"Mangifera indica\"[Organism]', 'Field': 'Organism', 'Count': '149449', 'Explode': 'Y'}, {'Term': 'Mangifera indica[All Fields]', 'Field': 'All Fields', 'Count': '176420', 'Explode': 'N'}, 'OR', 'GROUP', {'Term': 'matK[All Fields]', 'Field': 'All Fields', 'Count': '240290', 'Explode': 'N'}, 'AND', 'GROUP'], 'QueryTranslation': '(\"Mangifera indica\"[Organism] OR Mangifera indica[All Fields]) AND matK[All Fields]'}\n"
     ]
    }
   ],
   "source": [
    "#Code 3\n",
    "from Bio import Entrez\n",
    "Entrez.email = \"localuser@localhost.localdomain\" #Mandatory! Can be replaced with your personal email.\n",
    "\n",
    "#creating handle\n",
    "handle = Entrez.esearch(db=\"nuccore\", term=\"Mangifera indica matK\")\n",
    "record = Entrez.read(handle)\n",
    "print(record)\n",
    "handle.close() #always close your handle after you finish"
   ]
  },
  {
   "cell_type": "code",
   "execution_count": 27,
   "id": "34f75561-8ce2-45da-a5c3-347791172031",
   "metadata": {},
   "outputs": [
    {
     "name": "stdout",
     "output_type": "stream",
     "text": [
      "LOCUS       LC514278                 700 bp    DNA     linear   PLN 25-DEC-2019\n",
      "DEFINITION  Mangifera indica A20 chloroplast matK gene for maturase K, partial\n",
      "            sequence.\n",
      "ACCESSION   LC514278\n",
      "VERSION     LC514278.1\n",
      "KEYWORDS    .\n",
      "SOURCE      chloroplast Mangifera indica (mango)\n",
      "  ORGANISM  Mangifera indica\n",
      "            Eukaryota; Viridiplantae; Streptophyta; Embryophyta; Tracheophyta;\n",
      "            Spermatophyta; Magnoliopsida; eudicotyledons; Gunneridae;\n",
      "            Pentapetalae; rosids; malvids; Sapindales; Anacardiaceae;\n",
      "            Mangifera.\n",
      "REFERENCE   1\n",
      "  AUTHORS   Selahshoorkohan,M., Fahmideh,L. and Fakheri,B.\n",
      "  TITLE     Analysis of genetic diversity of some mango genotypes in southern\n",
      "            of Iran using chloroplast genes\n",
      "  JOURNAL   Unpublished\n",
      "REFERENCE   2  (bases 1 to 700)\n",
      "  AUTHORS   Keykhasaber,M., Selahshoorkohan,M., Fahmideh,L. and Fakheri,B.\n",
      "  TITLE     Direct Submission\n",
      "  JOURNAL   Submitted (12-DEC-2019) Contact:Mojtaba Keykhasaber University of\n",
      "            Zabol, Plant Breeding and Biotechnology; Bnja, Zabol 35856-98613,\n",
      "            Iran\n",
      "FEATURES             Location/Qualifiers\n",
      "     source          1..700\n",
      "                     /organism=\"Mangifera indica\"\n",
      "                     /organelle=\"plastid:chloroplast\"\n",
      "                     /mol_type=\"genomic DNA\"\n",
      "                     /isolate=\"A20\"\n",
      "                     /db_xref=\"taxon:29780\"\n",
      "                     /country=\"Iran\"\n",
      "                     /collection_date=\"2016-08-15\"\n",
      "     gene            <1..>700\n",
      "                     /gene=\"matK\"\n",
      "     misc_feature    <1..>700\n",
      "                     /gene=\"matK\"\n",
      "                     /note=\"maturase K; coding region not determined\"\n",
      "ORIGIN      \n",
      "        1 agaacaactt gtcgaatctc ggctaatgat cttgacccaa ggacatctta tgcttgttca\n",
      "       61 aggatccgtt catgcattat gttaaatata aaggaaaatc tattctgtct tcaaaggata\n",
      "      121 cgcctcttct gatgaataaa tggaaatatt accttgtcaa tttatggcaa tcgcattttc\n",
      "      181 acatgtggtc tcaaccggta agggttcata gaaagcactt ctacaagcat tctatcaatt\n",
      "      241 ttctgggtta tctttccagt gtgcgactaa atcttttgtt ggtacggagt caaatgctag\n",
      "      301 aaaattcatt tatcatagat aagactatga agaagttcga tacaaccgtt ccaattattc\n",
      "      361 ctctgattgg atcattgagt aaggcgcggt tttgtaacac cttagggcat cccattagta\n",
      "      421 agtcgacctg ggctgattcc ttagattttg atattattga ccgatttgtg cgtatatgca\n",
      "      481 gaaatctttc tcattatcac agcgggtcct caaaaaaaaa aaatttgtat cgaataaaat\n",
      "      541 atatacttcg gatttcttgt gttaaaaatt tggttcgtaa acacaaaaat actgtacgcg\n",
      "      601 cttttttgaa aagattcggt tcggaatttt tggaagaatt ccttatggcg gaagagcacg\n",
      "      661 ttctttctgt aatctttcca agagcttcat ctacttcacg\n",
      "//\n",
      "\n",
      "\n"
     ]
    }
   ],
   "source": [
    "#Code 4\n",
    "from Bio import Entrez\n",
    "Entrez.email = \"localuser@localhost.localdomain\" #Mandatory! Can be replaced with your personal email.\n",
    "\n",
    "#creating EFetch handle\n",
    "efetch_handle = Entrez.efetch(db=\"nuccore\", id=\"1787507800\", rettype=\"gb\", retmode=\"text\")\n",
    "gbrecord = efetch_handle.read()\n",
    "print(gbrecord)\n",
    "efetch_handle.close() #always close your handle after you finish"
   ]
  },
  {
   "cell_type": "code",
   "execution_count": 28,
   "id": "96f058f6-925d-4c0a-b96d-d8ec57381b43",
   "metadata": {},
   "outputs": [
    {
     "name": "stdout",
     "output_type": "stream",
     "text": [
      ">LC514278.1 Mangifera indica A20 chloroplast matK gene for maturase K, partial sequence\n",
      "AGAACAACTTGTCGAATCTCGGCTAATGATCTTGACCCAAGGACATCTTATGCTTGTTCAAGGATCCGTT\n",
      "CATGCATTATGTTAAATATAAAGGAAAATCTATTCTGTCTTCAAAGGATACGCCTCTTCTGATGAATAAA\n",
      "TGGAAATATTACCTTGTCAATTTATGGCAATCGCATTTTCACATGTGGTCTCAACCGGTAAGGGTTCATA\n",
      "GAAAGCACTTCTACAAGCATTCTATCAATTTTCTGGGTTATCTTTCCAGTGTGCGACTAAATCTTTTGTT\n",
      "GGTACGGAGTCAAATGCTAGAAAATTCATTTATCATAGATAAGACTATGAAGAAGTTCGATACAACCGTT\n",
      "CCAATTATTCCTCTGATTGGATCATTGAGTAAGGCGCGGTTTTGTAACACCTTAGGGCATCCCATTAGTA\n",
      "AGTCGACCTGGGCTGATTCCTTAGATTTTGATATTATTGACCGATTTGTGCGTATATGCAGAAATCTTTC\n",
      "TCATTATCACAGCGGGTCCTCAAAAAAAAAAAATTTGTATCGAATAAAATATATACTTCGGATTTCTTGT\n",
      "GTTAAAAATTTGGTTCGTAAACACAAAAATACTGTACGCGCTTTTTTGAAAAGATTCGGTTCGGAATTTT\n",
      "TGGAAGAATTCCTTATGGCGGAAGAGCACGTTCTTTCTGTAATCTTTCCAAGAGCTTCATCTACTTCACG\n",
      "\n",
      "\n"
     ]
    }
   ],
   "source": [
    "#Code 5\n",
    "from Bio import Entrez\n",
    "Entrez.email = \"localuser@localhost.localdomain\" #Mandatory! Can be replaced with your personal email.\n",
    "\n",
    "#creating EFetch handle\n",
    "efetch_handle = Entrez.efetch(db=\"nuccore\", id=\"1787507800\", rettype=\"fasta\", retmode=\"text\")\n",
    "fasta_record = efetch_handle.read()\n",
    "print(fasta_record)\n",
    "efetch_handle.close() #always close your handle after you finish"
   ]
  },
  {
   "cell_type": "code",
   "execution_count": null,
   "id": "e4e4860e-3f94-4307-9153-f06239ff7957",
   "metadata": {},
   "outputs": [
    {
     "name": "stdout",
     "output_type": "stream",
     "text": [
      "Mangifera indica matK.gbk Saved\n"
     ]
    }
   ],
   "source": [
    "#Code 6\n",
    "import os # import os module for OS utilities\n",
    "from Bio import Entrez\n",
    "Entrez.email = \"localuser@localhost.localdomain\" #Mandatory! Can be replaced with your personal email.\n",
    "\n",
    "#creating EFetch handle\n",
    "filename = \"Mangifera indica matK.gbk\" #up to you, but Genbank files always use *.gb or *.gbk \n",
    "\n",
    "#creating EFetch handle\n",
    "if not os.path.isfile(filename):\n",
    "    # Downloading file...\n",
    "    efetch_handle = Entrez.efetch(db=\"nuccore\", id=\"1787507800\", rettype=\"gb\", retmode=\"text\")\n",
    "    output_file_handle = open(filename, \"w\")\n",
    "    output_file_handle.write(efetch_handle.read())\n",
    "    output_file_handle.close()\n",
    "    efetch_handle.close()\n",
    "    print((str(filename)) + \" Saved\")\n",
    "else:\n",
    "    print((str(filename)) + \" is existing. File cannot be saved!\")"
   ]
  },
  {
   "cell_type": "code",
   "execution_count": 13,
   "id": "71a6b079-68d5-4a04-92e0-6b70f5e44abe",
   "metadata": {
    "tags": []
   },
   "outputs": [
    {
     "name": "stdout",
     "output_type": "stream",
     "text": [
      "Mangifera indica matK.fasta Saved\n"
     ]
    }
   ],
   "source": [
    "#Code 7\n",
    "import os # import os module for OS utilities\n",
    "from Bio import Entrez\n",
    "Entrez.email = \"localuser@localhost.localdomain\" #Mandatory! Can be replaced with your personal email.\n",
    "\n",
    "#creating EFetch handle\n",
    "filename = \"Mangifera indica matK.fasta\" #up to you, but FASTA files always use *.fasta or *.fas \n",
    "\n",
    "#creating EFetch handle\n",
    "if not os.path.isfile(filename):\n",
    "    # Downloading file...\n",
    "    efetch_handle = Entrez.efetch(db=\"nuccore\", id=\"1787507800\", rettype=\"fasta\", retmode=\"text\")\n",
    "    output_file_handle = open(filename, \"w\")\n",
    "    output_file_handle.write(efetch_handle.read())\n",
    "    output_file_handle.close()\n",
    "    efetch_handle.close()\n",
    "    print((str(filename)) + \" Saved\")\n",
    "else:\n",
    "    print((str(filename)) + \" is existing. File cannot be saved!\")"
   ]
  },
  {
   "cell_type": "code",
   "execution_count": 15,
   "id": "743472bc-1dc0-4d30-87a8-6165cce88d77",
   "metadata": {},
   "outputs": [
    {
     "name": "stdout",
     "output_type": "stream",
     "text": [
      "Mangifera indica complete chloroplast.gbk Saved\n"
     ]
    }
   ],
   "source": [
    "#Code 8\n",
    "import os # import os module for OS utilities\n",
    "from Bio import Entrez, SeqIO\n",
    "Entrez.email = \"localuser@localhost.localdomain\" #Mandatory! Can be replaced with your personal email.\n",
    "\n",
    "#creating EFetch handle\n",
    "filename = \"Mangifera indica complete chloroplast.gbk\" #up to you, but Genbank files always use *.gb or *.gbk \n",
    "\n",
    "#creating EFetch handle\n",
    "if not os.path.isfile(filename):\n",
    "    # Downloading file...\n",
    "    efetch_handle = Entrez.efetch(db=\"nuccore\", id=\"2130418125\", rettype=\"gb\", retmode=\"text\")\n",
    "    output_file_handle = open(filename, \"w\")\n",
    "    output_file_handle.write(efetch_handle.read())\n",
    "    output_file_handle.close()\n",
    "    efetch_handle.close()\n",
    "    print((str(filename)) + \" Saved\")\n",
    "else:\n",
    "    print((str(filename)) + \" is existing. File cannot be saved!\")"
   ]
  },
  {
   "cell_type": "code",
   "execution_count": 16,
   "id": "4d4cb607-2b00-4046-83cf-af8cf66c8788",
   "metadata": {},
   "outputs": [
    {
     "name": "stdout",
     "output_type": "stream",
     "text": [
      ">matK|Mangifera indica chloroplast, complete genome\n",
      "ATGGAGGAATTTCAAGTCTATTTCGAACTAGATGGATCTCAGCAACACCACTTCCTATACCCACTGCTTTTTCGTGAGTATATTTATGCACTGGCTCATGATCATGCTTTAAATAGATGGAGGTTTTCGTTGGAAAATGGGGGTTATGACAATAAATCTAGTTCACTAAGTGTGAAACGTTTAATTATTCGACTGTATCAACGGATTCAGTTGAGTATTTCTACTAATGATTCTAATCAAAATCAATTTTTTGGACACAACAATAAGTTGTATTCGCAAATGATATCCGAGGGGTTTGCAGTCATTGTGGAAATTGCATTTTCGCTACGATTTGTCTCTTTCTTAGAAGGTAAAGAAATAGCAAAATCTCATAATTTCCAATCAATTGATTCAATATTTCCCTTTTTCGAGGACAAATTCTCATATTTAAATTATGTCTTAGATGTACTAATACCCTACCCCATTCGCTCGGAAATCTTGGTTCAAATCCTTCGCTGCTGGGTAAAAGATGCCTCTTCTTTACATTTATTACGGTTCTTTCTACATGAGTATTTTAATTTGAATTGGAATAGTCTTAGTACTCCAAAGAAATCTATTTCCATTTTTTCAAAAAGTAATTCAAGATTATTCTTGTTCCTATATAATTCTCATGTATGTGAATATGAATCCATCTTCTTTTTTCTCCGTAACCAATCTTCTCATTTACGATCAACATCTTCTGGAGTCCTTCTTGAGCGAATAGATTTCTATCGAAAAGTAGAACATCTTGTCGAAGTCTTGGCTAATGATTTTGATTTTCAGGACATCTTATGCTTGTTCAAGGATCCGTTCATGCATTATGTTAAATATAAAGGAAAATCTATTCTGTCTTCAAAGGATACGCCTCTTCTGATGAATAAATGGAAATATTACCTTGTCAATTTATGGCAATCGCATTTTCACATGTGGTCTCAACCGGTAAGGGTTCATAGAAAGCACTTCTACAAGCATTCTATCAATTTTCTGGGTTATCTTTCCAGTGTGCGACTAAATCTTTTGTTGGTACGGAGTCAAATGCTAGAAAATTCATTTATCATAGATAAGACTATGAAGAAGTTCGATACAACCGTTCCAATTATTCCTCTGATTGGATCATTGAGTAAGGCGCGGTTTTGTAACACCTTAGGGCATCCCATTAGTAAGTCGACCTGGGCTGATTCCTTAGATTTTGATATTATTGACCGATTTGTGCGTATATGCAGAAATCTTTCTCATTATCACAGCGGGTCCTCAAAAAAAAAGAATTTGTATCGAATAAAATATATACTTCGGATTTCTTGTGTTAAAAATTTGGTTCGTAAACACAAAAATACTGTACGCGCTTTTTTGAAAAGATTCGGTTCGGAATTTTTGGAAGAATTCCTTATGGCGGAAGAGCACGTTCTTTCTGTAATCTTTCCAAGAGCTTCGTCTACTTCGCGGAGGTTGTATAGAGGGCGGATTTGGTATTTGGATATTATTTGTATCAATGATCTGGTTAATCATGAATAA\n"
     ]
    }
   ],
   "source": [
    "#Code 8 (continued)\n",
    "\n",
    "GoI = \"matK\" #change \"matK\" here with your GoI\n",
    "\n",
    "for genome in SeqIO.parse(\"Mangifera indica complete chloroplast.gbk\",\"genbank\"):\n",
    "    for gene in genome.features:\n",
    "        if gene.type != \"CDS\":\n",
    "            continue\n",
    "        if \"gene\" not in gene.qualifiers:\n",
    "            continue\n",
    "        if GoI not in gene.qualifiers[\"gene\"][0]: \n",
    "            continue\n",
    "        gene_seq = gene.extract(genome.seq)\n",
    "\n",
    "GoI_fasta = \">%s|%s\\n%s\" % (GoI, genome.description, gene_seq)\n",
    "print(GoI_fasta)"
   ]
  },
  {
   "cell_type": "code",
   "execution_count": 1,
   "id": "c392fd20-bd86-48ed-af89-7c3deaca874d",
   "metadata": {},
   "outputs": [
    {
     "name": "stdout",
     "output_type": "stream",
     "text": [
      "Mangifera indica complete chloroplast.fasta Saved\n"
     ]
    }
   ],
   "source": [
    "#Code 9\n",
    "import os # import os module for OS utilities\n",
    "from Bio import Entrez, SeqIO\n",
    "Entrez.email = \"localuser@localhost.localdomain\" #Mandatory! Can be replaced with your personal email.\n",
    "\n",
    "#creating EFetch handle\n",
    "filename = \"Mangifera indica complete chloroplast.fasta\" #up to you, but Genbank files always use *.fasta or *.fas \n",
    "\n",
    "#creating EFetch handle\n",
    "if not os.path.isfile(filename):\n",
    "    # Downloading file...\n",
    "    efetch_handle = Entrez.efetch(db=\"nuccore\", id=\"2130418125\", rettype=\"fasta\", retmode=\"text\")\n",
    "    output_file_handle = open(filename, \"w\")\n",
    "    output_file_handle.write(efetch_handle.read())\n",
    "    output_file_handle.close()\n",
    "    efetch_handle.close()\n",
    "    print((str(filename)) + \" Saved\")\n",
    "else:\n",
    "    print((str(filename)) + \" is existing. File cannot be saved!\")"
   ]
  },
  {
   "cell_type": "code",
   "execution_count": 3,
   "id": "c2a6c2d1-25f8-48ee-b0cd-68191d60725d",
   "metadata": {},
   "outputs": [],
   "source": [
    "from Bio import SeqIO\n",
    "\n",
    "GoI = \"matK\"\n",
    "\n",
    "for genome in SeqIO.parse(\"Mangifera indica complete chloroplast.gbk\",\"genbank\"):\n",
    "    for gene in genome.features:\n",
    "        if gene.type != \"CDS\":\n",
    "            continue\n",
    "        if \"gene\" not in gene.qualifiers:\n",
    "            continue\n",
    "        if GoI not in gene.qualifiers[\"gene\"][0]: \n",
    "            continue\n",
    "        gene_seq = gene.extract(genome.seq)\n",
    "\n",
    "GoI_fasta = \">%s|%s\\n%s\" % (GoI, genome.description, gene_seq)\n",
    "with open(\"GoI_fasta.fasta\",\"w\") as f:\n",
    "    f.write(GoI_fasta)"
   ]
  },
  {
   "cell_type": "code",
   "execution_count": null,
   "id": "b57b63ac-8127-4845-869e-9917c6e2192e",
   "metadata": {},
   "outputs": [],
   "source": []
  }
 ],
 "metadata": {
  "kernelspec": {
   "display_name": "Python 3 (ipykernel)",
   "language": "python",
   "name": "python3"
  },
  "language_info": {
   "codemirror_mode": {
    "name": "ipython",
    "version": 3
   },
   "file_extension": ".py",
   "mimetype": "text/x-python",
   "name": "python",
   "nbconvert_exporter": "python",
   "pygments_lexer": "ipython3",
   "version": "3.9.7"
  }
 },
 "nbformat": 4,
 "nbformat_minor": 5
}
